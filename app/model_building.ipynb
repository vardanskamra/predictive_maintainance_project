{
 "cells": [
  {
   "cell_type": "markdown",
   "metadata": {},
   "source": [
    "# Predictive Maintenance Project\n",
    "\n",
    "## Model Training and Testing"
   ]
  },
  {
   "cell_type": "code",
   "execution_count": 1,
   "metadata": {},
   "outputs": [],
   "source": [
    "import pandas as pd\n",
    "import matplotlib.pyplot as plt\n",
    "import pickle\n",
    "%matplotlib inline\n",
    "\n",
    "from sklearn.metrics import mean_absolute_error, mean_squared_error, r2_score\n",
    "from sklearn.model_selection import train_test_split\n",
    "\n",
    "from tensorflow.keras.models import Sequential\n",
    "from tensorflow.keras.layers import Dense, Input\n",
    "from tensorflow.keras.regularizers import l2\n",
    "\n",
    "from app.preprocessing import standardize, load_data\n",
    "from app.logging_config import setup_logging, log_message, log_error"
   ]
  },
  {
   "cell_type": "code",
   "execution_count": 2,
   "metadata": {},
   "outputs": [],
   "source": [
    "setup_logging('../logs/model_building.log')"
   ]
  },
  {
   "cell_type": "code",
   "execution_count": 3,
   "metadata": {},
   "outputs": [],
   "source": [
    "try: \n",
    "    df = load_data('../data/training/train_fd.csv')\n",
    "    log_message('Loaded dataset successfully')\n",
    "except Exception as e:\n",
    "    log_error(\"Failed to load dataset: \"+ str(e))"
   ]
  },
  {
   "cell_type": "code",
   "execution_count": 4,
   "metadata": {},
   "outputs": [],
   "source": [
    "try:\n",
    "    df, scaler_params = standardize(df, scaler_params=None, save_path=\"models/scaler.pkl\")\n",
    "    log_message('Data standardized successfully')\n",
    "except Exception as e:\n",
    "    log_error(\"Failed to standardize dataset: \"+ str(e))"
   ]
  },
  {
   "cell_type": "code",
   "execution_count": 63,
   "metadata": {},
   "outputs": [],
   "source": [
    "try:\n",
    "    X = df.iloc[:, :-1].values\n",
    "    y = df.iloc[:, -1].values\n",
    "    X_train, X_val, y_train, y_val = train_test_split(X, y, test_size=0.2, random_state=42)\n",
    "    log_message('Data split successful')\n",
    "except Exception as e:\n",
    "    log_error(f\"Failed to split data: {e}\")"
   ]
  },
  {
   "cell_type": "code",
   "execution_count": 64,
   "metadata": {},
   "outputs": [],
   "source": [
    "try:\n",
    "\n",
    "    model=Sequential([\n",
    "        Input(shape=(25,)),\n",
    "        Dense(100, activation='relu', kernel_regularizer=l2(0.01)),\n",
    "        Dense(50, activation='relu', kernel_regularizer=l2(0.01)),\n",
    "        Dense(25, activation='relu', kernel_regularizer=l2(0.01)),\n",
    "        Dense(1, activation='linear', kernel_regularizer=l2(0.01))\n",
    "    ])\n",
    "\n",
    "    model.compile(optimizer='adam', loss='mse')\n",
    "\n",
    "    log_message(\"Model compiled successfully\")\n",
    "except Exception as e:\n",
    "    log_error(\"Failed to compile model: \"+ str(e))"
   ]
  },
  {
   "cell_type": "code",
   "execution_count": 65,
   "metadata": {},
   "outputs": [
    {
     "name": "stdout",
     "output_type": "stream",
     "text": [
      "0 NaNs in X_train\n",
      "0 NaNs in y_train\n",
      "0 NaNs in X_val\n",
      "0 NaNs in y_val\n"
     ]
    }
   ],
   "source": [
    "import numpy as np\n",
    "\n",
    "# Check for NaNs in training data\n",
    "print(np.isnan(X_train).sum(), \"NaNs in X_train\")\n",
    "print(np.isnan(y_train).sum(), \"NaNs in y_train\")\n",
    "print(np.isnan(X_val).sum(), \"NaNs in X_val\")\n",
    "print(np.isnan(y_val).sum(), \"NaNs in y_val\")"
   ]
  },
  {
   "cell_type": "code",
   "execution_count": 66,
   "metadata": {},
   "outputs": [
    {
     "name": "stdout",
     "output_type": "stream",
     "text": [
      "Epoch 1/60\n",
      "\u001b[1m4009/4009\u001b[0m \u001b[32m━━━━━━━━━━━━━━━━━━━━\u001b[0m\u001b[37m\u001b[0m \u001b[1m11s\u001b[0m 2ms/step - loss: 5239.0688 - val_loss: 2445.9524\n",
      "Epoch 2/60\n",
      "\u001b[1m4009/4009\u001b[0m \u001b[32m━━━━━━━━━━━━━━━━━━━━\u001b[0m\u001b[37m\u001b[0m \u001b[1m10s\u001b[0m 2ms/step - loss: 2473.2961 - val_loss: 2388.6204\n",
      "Epoch 3/60\n",
      "\u001b[1m4009/4009\u001b[0m \u001b[32m━━━━━━━━━━━━━━━━━━━━\u001b[0m\u001b[37m\u001b[0m \u001b[1m10s\u001b[0m 2ms/step - loss: 2436.5149 - val_loss: 2323.8352\n",
      "Epoch 4/60\n",
      "\u001b[1m4009/4009\u001b[0m \u001b[32m━━━━━━━━━━━━━━━━━━━━\u001b[0m\u001b[37m\u001b[0m \u001b[1m10s\u001b[0m 3ms/step - loss: 2385.6130 - val_loss: 2327.1077\n",
      "Epoch 5/60\n",
      "\u001b[1m4009/4009\u001b[0m \u001b[32m━━━━━━━━━━━━━━━━━━━━\u001b[0m\u001b[37m\u001b[0m \u001b[1m10s\u001b[0m 2ms/step - loss: 2391.1851 - val_loss: 2294.7820\n",
      "Epoch 6/60\n",
      "\u001b[1m4009/4009\u001b[0m \u001b[32m━━━━━━━━━━━━━━━━━━━━\u001b[0m\u001b[37m\u001b[0m \u001b[1m10s\u001b[0m 2ms/step - loss: 2363.0051 - val_loss: 2320.3323\n",
      "Epoch 7/60\n",
      "\u001b[1m4009/4009\u001b[0m \u001b[32m━━━━━━━━━━━━━━━━━━━━\u001b[0m\u001b[37m\u001b[0m \u001b[1m9s\u001b[0m 2ms/step - loss: 2340.4001 - val_loss: 2312.5645\n",
      "Epoch 8/60\n",
      "\u001b[1m4009/4009\u001b[0m \u001b[32m━━━━━━━━━━━━━━━━━━━━\u001b[0m\u001b[37m\u001b[0m \u001b[1m9s\u001b[0m 2ms/step - loss: 2331.7866 - val_loss: 2398.3000\n",
      "Epoch 9/60\n",
      "\u001b[1m4009/4009\u001b[0m \u001b[32m━━━━━━━━━━━━━━━━━━━━\u001b[0m\u001b[37m\u001b[0m \u001b[1m8s\u001b[0m 2ms/step - loss: 2310.7334 - val_loss: 2251.9248\n",
      "Epoch 10/60\n",
      "\u001b[1m4009/4009\u001b[0m \u001b[32m━━━━━━━━━━━━━━━━━━━━\u001b[0m\u001b[37m\u001b[0m \u001b[1m9s\u001b[0m 2ms/step - loss: 2311.3271 - val_loss: 2294.1414\n",
      "Epoch 11/60\n",
      "\u001b[1m4009/4009\u001b[0m \u001b[32m━━━━━━━━━━━━━━━━━━━━\u001b[0m\u001b[37m\u001b[0m \u001b[1m9s\u001b[0m 2ms/step - loss: 2287.0071 - val_loss: 2476.3181\n",
      "Epoch 12/60\n",
      "\u001b[1m4009/4009\u001b[0m \u001b[32m━━━━━━━━━━━━━━━━━━━━\u001b[0m\u001b[37m\u001b[0m \u001b[1m9s\u001b[0m 2ms/step - loss: 2265.4604 - val_loss: 2394.8833\n",
      "Epoch 13/60\n",
      "\u001b[1m4009/4009\u001b[0m \u001b[32m━━━━━━━━━━━━━━━━━━━━\u001b[0m\u001b[37m\u001b[0m \u001b[1m10s\u001b[0m 2ms/step - loss: 2277.3923 - val_loss: 2277.3010\n",
      "Epoch 14/60\n",
      "\u001b[1m4009/4009\u001b[0m \u001b[32m━━━━━━━━━━━━━━━━━━━━\u001b[0m\u001b[37m\u001b[0m \u001b[1m10s\u001b[0m 2ms/step - loss: 2266.1414 - val_loss: 2281.2156\n",
      "Epoch 15/60\n",
      "\u001b[1m4009/4009\u001b[0m \u001b[32m━━━━━━━━━━━━━━━━━━━━\u001b[0m\u001b[37m\u001b[0m \u001b[1m10s\u001b[0m 2ms/step - loss: 2264.3799 - val_loss: 2229.2229\n",
      "Epoch 16/60\n",
      "\u001b[1m4009/4009\u001b[0m \u001b[32m━━━━━━━━━━━━━━━━━━━━\u001b[0m\u001b[37m\u001b[0m \u001b[1m9s\u001b[0m 2ms/step - loss: 2310.5083 - val_loss: 2260.3296\n",
      "Epoch 17/60\n",
      "\u001b[1m4009/4009\u001b[0m \u001b[32m━━━━━━━━━━━━━━━━━━━━\u001b[0m\u001b[37m\u001b[0m \u001b[1m10s\u001b[0m 2ms/step - loss: 2252.5161 - val_loss: 2221.6260\n",
      "Epoch 18/60\n",
      "\u001b[1m4009/4009\u001b[0m \u001b[32m━━━━━━━━━━━━━━━━━━━━\u001b[0m\u001b[37m\u001b[0m \u001b[1m10s\u001b[0m 2ms/step - loss: 2259.3955 - val_loss: 2341.7749\n",
      "Epoch 19/60\n",
      "\u001b[1m4009/4009\u001b[0m \u001b[32m━━━━━━━━━━━━━━━━━━━━\u001b[0m\u001b[37m\u001b[0m \u001b[1m10s\u001b[0m 2ms/step - loss: 2258.8040 - val_loss: 2341.8232\n",
      "Epoch 20/60\n",
      "\u001b[1m4009/4009\u001b[0m \u001b[32m━━━━━━━━━━━━━━━━━━━━\u001b[0m\u001b[37m\u001b[0m \u001b[1m10s\u001b[0m 2ms/step - loss: 2222.3335 - val_loss: 2216.9592\n",
      "Epoch 21/60\n",
      "\u001b[1m4009/4009\u001b[0m \u001b[32m━━━━━━━━━━━━━━━━━━━━\u001b[0m\u001b[37m\u001b[0m \u001b[1m9s\u001b[0m 2ms/step - loss: 2234.1108 - val_loss: 2420.1777\n",
      "Epoch 22/60\n",
      "\u001b[1m4009/4009\u001b[0m \u001b[32m━━━━━━━━━━━━━━━━━━━━\u001b[0m\u001b[37m\u001b[0m \u001b[1m8s\u001b[0m 2ms/step - loss: 2230.4160 - val_loss: 2373.8701\n",
      "Epoch 23/60\n",
      "\u001b[1m4009/4009\u001b[0m \u001b[32m━━━━━━━━━━━━━━━━━━━━\u001b[0m\u001b[37m\u001b[0m \u001b[1m8s\u001b[0m 2ms/step - loss: 2258.9238 - val_loss: 2199.2749\n",
      "Epoch 24/60\n",
      "\u001b[1m4009/4009\u001b[0m \u001b[32m━━━━━━━━━━━━━━━━━━━━\u001b[0m\u001b[37m\u001b[0m \u001b[1m7s\u001b[0m 2ms/step - loss: 2237.9783 - val_loss: 2229.9963\n",
      "Epoch 25/60\n",
      "\u001b[1m4009/4009\u001b[0m \u001b[32m━━━━━━━━━━━━━━━━━━━━\u001b[0m\u001b[37m\u001b[0m \u001b[1m9s\u001b[0m 2ms/step - loss: 2219.9846 - val_loss: 2278.8613\n",
      "Epoch 26/60\n",
      "\u001b[1m4009/4009\u001b[0m \u001b[32m━━━━━━━━━━━━━━━━━━━━\u001b[0m\u001b[37m\u001b[0m \u001b[1m10s\u001b[0m 3ms/step - loss: 2236.1306 - val_loss: 2237.0347\n",
      "Epoch 27/60\n",
      "\u001b[1m4009/4009\u001b[0m \u001b[32m━━━━━━━━━━━━━━━━━━━━\u001b[0m\u001b[37m\u001b[0m \u001b[1m10s\u001b[0m 2ms/step - loss: 2201.6655 - val_loss: 2169.5808\n",
      "Epoch 28/60\n",
      "\u001b[1m4009/4009\u001b[0m \u001b[32m━━━━━━━━━━━━━━━━━━━━\u001b[0m\u001b[37m\u001b[0m \u001b[1m10s\u001b[0m 3ms/step - loss: 2188.0337 - val_loss: 2197.8074\n",
      "Epoch 29/60\n",
      "\u001b[1m4009/4009\u001b[0m \u001b[32m━━━━━━━━━━━━━━━━━━━━\u001b[0m\u001b[37m\u001b[0m \u001b[1m10s\u001b[0m 3ms/step - loss: 2198.0088 - val_loss: 2270.7214\n",
      "Epoch 30/60\n",
      "\u001b[1m4009/4009\u001b[0m \u001b[32m━━━━━━━━━━━━━━━━━━━━\u001b[0m\u001b[37m\u001b[0m \u001b[1m10s\u001b[0m 3ms/step - loss: 2235.9851 - val_loss: 2188.2957\n",
      "Epoch 31/60\n",
      "\u001b[1m4009/4009\u001b[0m \u001b[32m━━━━━━━━━━━━━━━━━━━━\u001b[0m\u001b[37m\u001b[0m \u001b[1m10s\u001b[0m 3ms/step - loss: 2207.6702 - val_loss: 2186.3845\n",
      "Epoch 32/60\n",
      "\u001b[1m4009/4009\u001b[0m \u001b[32m━━━━━━━━━━━━━━━━━━━━\u001b[0m\u001b[37m\u001b[0m \u001b[1m10s\u001b[0m 3ms/step - loss: 2209.6013 - val_loss: 2228.6121\n",
      "Epoch 33/60\n",
      "\u001b[1m4009/4009\u001b[0m \u001b[32m━━━━━━━━━━━━━━━━━━━━\u001b[0m\u001b[37m\u001b[0m \u001b[1m11s\u001b[0m 3ms/step - loss: 2227.5151 - val_loss: 2209.8972\n",
      "Epoch 34/60\n",
      "\u001b[1m4009/4009\u001b[0m \u001b[32m━━━━━━━━━━━━━━━━━━━━\u001b[0m\u001b[37m\u001b[0m \u001b[1m10s\u001b[0m 2ms/step - loss: 2198.7405 - val_loss: 2186.1169\n",
      "Epoch 35/60\n",
      "\u001b[1m4009/4009\u001b[0m \u001b[32m━━━━━━━━━━━━━━━━━━━━\u001b[0m\u001b[37m\u001b[0m \u001b[1m10s\u001b[0m 3ms/step - loss: 2208.1235 - val_loss: 2234.0227\n",
      "Epoch 36/60\n",
      "\u001b[1m4009/4009\u001b[0m \u001b[32m━━━━━━━━━━━━━━━━━━━━\u001b[0m\u001b[37m\u001b[0m \u001b[1m11s\u001b[0m 3ms/step - loss: 2175.9905 - val_loss: 2182.4512\n",
      "Epoch 37/60\n",
      "\u001b[1m4009/4009\u001b[0m \u001b[32m━━━━━━━━━━━━━━━━━━━━\u001b[0m\u001b[37m\u001b[0m \u001b[1m10s\u001b[0m 3ms/step - loss: 2196.4082 - val_loss: 2177.0557\n",
      "Epoch 38/60\n",
      "\u001b[1m4009/4009\u001b[0m \u001b[32m━━━━━━━━━━━━━━━━━━━━\u001b[0m\u001b[37m\u001b[0m \u001b[1m10s\u001b[0m 3ms/step - loss: 2178.3604 - val_loss: 2239.5874\n",
      "Epoch 39/60\n",
      "\u001b[1m4009/4009\u001b[0m \u001b[32m━━━━━━━━━━━━━━━━━━━━\u001b[0m\u001b[37m\u001b[0m \u001b[1m9s\u001b[0m 2ms/step - loss: 2203.9556 - val_loss: 2253.9121\n",
      "Epoch 40/60\n",
      "\u001b[1m4009/4009\u001b[0m \u001b[32m━━━━━━━━━━━━━━━━━━━━\u001b[0m\u001b[37m\u001b[0m \u001b[1m8s\u001b[0m 2ms/step - loss: 2186.5039 - val_loss: 2200.8064\n",
      "Epoch 41/60\n",
      "\u001b[1m4009/4009\u001b[0m \u001b[32m━━━━━━━━━━━━━━━━━━━━\u001b[0m\u001b[37m\u001b[0m \u001b[1m10s\u001b[0m 2ms/step - loss: 2180.3074 - val_loss: 2192.6882\n",
      "Epoch 42/60\n",
      "\u001b[1m4009/4009\u001b[0m \u001b[32m━━━━━━━━━━━━━━━━━━━━\u001b[0m\u001b[37m\u001b[0m \u001b[1m6s\u001b[0m 1ms/step - loss: 2168.6760 - val_loss: 2191.4985\n",
      "Epoch 43/60\n",
      "\u001b[1m4009/4009\u001b[0m \u001b[32m━━━━━━━━━━━━━━━━━━━━\u001b[0m\u001b[37m\u001b[0m \u001b[1m9s\u001b[0m 2ms/step - loss: 2179.5938 - val_loss: 2249.1277\n",
      "Epoch 44/60\n",
      "\u001b[1m4009/4009\u001b[0m \u001b[32m━━━━━━━━━━━━━━━━━━━━\u001b[0m\u001b[37m\u001b[0m \u001b[1m6s\u001b[0m 1ms/step - loss: 2174.4783 - val_loss: 2163.6572\n",
      "Epoch 45/60\n",
      "\u001b[1m4009/4009\u001b[0m \u001b[32m━━━━━━━━━━━━━━━━━━━━\u001b[0m\u001b[37m\u001b[0m \u001b[1m9s\u001b[0m 2ms/step - loss: 2191.8999 - val_loss: 2245.0771\n",
      "Epoch 46/60\n",
      "\u001b[1m4009/4009\u001b[0m \u001b[32m━━━━━━━━━━━━━━━━━━━━\u001b[0m\u001b[37m\u001b[0m \u001b[1m9s\u001b[0m 2ms/step - loss: 2184.6379 - val_loss: 2215.2236\n",
      "Epoch 47/60\n",
      "\u001b[1m4009/4009\u001b[0m \u001b[32m━━━━━━━━━━━━━━━━━━━━\u001b[0m\u001b[37m\u001b[0m \u001b[1m9s\u001b[0m 2ms/step - loss: 2186.0208 - val_loss: 2150.3301\n",
      "Epoch 48/60\n",
      "\u001b[1m4009/4009\u001b[0m \u001b[32m━━━━━━━━━━━━━━━━━━━━\u001b[0m\u001b[37m\u001b[0m \u001b[1m7s\u001b[0m 2ms/step - loss: 2198.2910 - val_loss: 2178.9275\n",
      "Epoch 49/60\n",
      "\u001b[1m4009/4009\u001b[0m \u001b[32m━━━━━━━━━━━━━━━━━━━━\u001b[0m\u001b[37m\u001b[0m \u001b[1m5s\u001b[0m 1ms/step - loss: 2195.2251 - val_loss: 2224.2925\n",
      "Epoch 50/60\n",
      "\u001b[1m4009/4009\u001b[0m \u001b[32m━━━━━━━━━━━━━━━━━━━━\u001b[0m\u001b[37m\u001b[0m \u001b[1m8s\u001b[0m 2ms/step - loss: 2172.2849 - val_loss: 2172.4902\n",
      "Epoch 51/60\n",
      "\u001b[1m4009/4009\u001b[0m \u001b[32m━━━━━━━━━━━━━━━━━━━━\u001b[0m\u001b[37m\u001b[0m \u001b[1m9s\u001b[0m 2ms/step - loss: 2203.5620 - val_loss: 2168.6267\n",
      "Epoch 52/60\n",
      "\u001b[1m4009/4009\u001b[0m \u001b[32m━━━━━━━━━━━━━━━━━━━━\u001b[0m\u001b[37m\u001b[0m \u001b[1m9s\u001b[0m 2ms/step - loss: 2169.4670 - val_loss: 2224.1008\n",
      "Epoch 53/60\n",
      "\u001b[1m4009/4009\u001b[0m \u001b[32m━━━━━━━━━━━━━━━━━━━━\u001b[0m\u001b[37m\u001b[0m \u001b[1m9s\u001b[0m 2ms/step - loss: 2177.2539 - val_loss: 2171.4124\n",
      "Epoch 54/60\n",
      "\u001b[1m4009/4009\u001b[0m \u001b[32m━━━━━━━━━━━━━━━━━━━━\u001b[0m\u001b[37m\u001b[0m \u001b[1m9s\u001b[0m 2ms/step - loss: 2160.5466 - val_loss: 2181.2249\n",
      "Epoch 55/60\n",
      "\u001b[1m4009/4009\u001b[0m \u001b[32m━━━━━━━━━━━━━━━━━━━━\u001b[0m\u001b[37m\u001b[0m \u001b[1m9s\u001b[0m 2ms/step - loss: 2197.0269 - val_loss: 2187.3191\n",
      "Epoch 56/60\n",
      "\u001b[1m4009/4009\u001b[0m \u001b[32m━━━━━━━━━━━━━━━━━━━━\u001b[0m\u001b[37m\u001b[0m \u001b[1m6s\u001b[0m 1ms/step - loss: 2164.9402 - val_loss: 2173.9673\n",
      "Epoch 57/60\n",
      "\u001b[1m4009/4009\u001b[0m \u001b[32m━━━━━━━━━━━━━━━━━━━━\u001b[0m\u001b[37m\u001b[0m \u001b[1m6s\u001b[0m 2ms/step - loss: 2167.8896 - val_loss: 2245.4695\n",
      "Epoch 58/60\n",
      "\u001b[1m4009/4009\u001b[0m \u001b[32m━━━━━━━━━━━━━━━━━━━━\u001b[0m\u001b[37m\u001b[0m \u001b[1m9s\u001b[0m 2ms/step - loss: 2155.9929 - val_loss: 2254.8809\n",
      "Epoch 59/60\n",
      "\u001b[1m4009/4009\u001b[0m \u001b[32m━━━━━━━━━━━━━━━━━━━━\u001b[0m\u001b[37m\u001b[0m \u001b[1m10s\u001b[0m 2ms/step - loss: 2181.2061 - val_loss: 2173.3704\n",
      "Epoch 60/60\n",
      "\u001b[1m4009/4009\u001b[0m \u001b[32m━━━━━━━━━━━━━━━━━━━━\u001b[0m\u001b[37m\u001b[0m \u001b[1m10s\u001b[0m 2ms/step - loss: 2165.8423 - val_loss: 2162.7278\n"
     ]
    }
   ],
   "source": [
    "try:\n",
    "    history = model.fit(X_train, y_train, validation_data=(X_val, y_val), epochs=60, batch_size=32)\n",
    "    log_message(\"Model fitted successfully\")\n",
    "except Exception as e:\n",
    "    log_error(e)"
   ]
  },
  {
   "cell_type": "code",
   "execution_count": 67,
   "metadata": {},
   "outputs": [
    {
     "data": {
      "image/png": "[encoded data removed]",
      "text/plain": [
       "<Figure size 640x480 with 1 Axes>"
      ]
     },
     "metadata": {},
     "output_type": "display_data"
    }
   ],
   "source": [
    "try:\n",
    "    plt.plot(history.history['loss'], label='Training loss')\n",
    "    plt.plot(history.history['val_loss'], label='Validation loss')\n",
    "    plt.xlabel('Epochs')\n",
    "    plt.ylabel('Loss')\n",
    "    plt.legend()\n",
    "    plt.show()\n",
    "except Exception as e:\n",
    "    log_error(\"Failed to plot training history: \"+ str(e))"
   ]
  },
  {
   "cell_type": "code",
   "execution_count": 68,
   "metadata": {},
   "outputs": [
    {
     "name": "stderr",
     "output_type": "stream",
     "text": [
      "c:\\Users\\VARDAN S KAMRA\\Desktop\\Predictive Maintainance Project\\Predictive_Maintainance_Project\\venv\\Lib\\site-packages\\sklearn\\base.py:486: UserWarning: X has feature names, but StandardScaler was fitted without feature names\n",
      "  warnings.warn(\n"
     ]
    }
   ],
   "source": [
    "try:\n",
    "    test_df = load_data('../data/testing/test_fd.csv')\n",
    "    test_df, scaler_params = standardize(test_df, scaler_params)\n",
    "    X_test = df.iloc[:, :-1].values\n",
    "    y_test = df.iloc[:, -1].values\n",
    "\n",
    "    log_message(\"Test data processed successfully\")\n",
    "except Exception as e:\n",
    "    log_error(\"Failed to process test data: \"+ str(e))"
   ]
  },
  {
   "cell_type": "code",
   "execution_count": 69,
   "metadata": {},
   "outputs": [
    {
     "name": "stdout",
     "output_type": "stream",
     "text": [
      "\u001b[1m5012/5012\u001b[0m \u001b[32m━━━━━━━━━━━━━━━━━━━━\u001b[0m\u001b[37m\u001b[0m \u001b[1m6s\u001b[0m 1ms/step\n",
      "MAE: 32.340507093454804\n",
      "MSE: 2135.105718950797\n",
      "R2 Score: 0.6940486431121826\n"
     ]
    }
   ],
   "source": [
    "try:\n",
    "    y_pred = model.predict(X_test)\n",
    "    mae = mean_absolute_error(y_test, y_pred)\n",
    "    mse = mean_squared_error(y_test, y_pred)\n",
    "    r2 = r2_score(y_test, y_pred)\n",
    "    \n",
    "    print(f\"MAE: {mae}\")\n",
    "    print(f\"MSE: {mse}\")\n",
    "    print(f\"R2 Score: {r2}\")\n",
    "\n",
    "    log_message(f\"Model Performance: \\n MAE: {mae} \\n MSE: {mse} \\n R2 SCORE: {r2}\")\n",
    "except Exception as e:\n",
    "    log_error(\"Failed to evaluate model performance: \"+ str(e))"
   ]
  },
  {
   "cell_type": "markdown",
   "metadata": {},
   "source": [
    "On average, the model's predictions are off by 32 units. Mean Absolute Error (MAE) is a measure of the absolute differences between predicted and actual values. Lower MAE indicates better model performance.\n",
    "\n",
    "Mean Squared Error measures the average of the squares of the errors, giving more weight to larger errors. Lower MSE indicates better model performance. In this context, the MSE value is quite large, suggesting there are some errors in the predictions.\n",
    "\n",
    "The R² score ranges from 0 to 1 and indicates the proportion of the variance in the dependent variable that is predictable from the independent variables. An R² score of 0.694 means that approximately 69.4% of the variance in the target variable (Remaining Useful Life) is explained by the model. Generally, an R² score closer to 1 indicates a better fit, while a score closer to 0 indicates a poor fit.\n",
    "\n",
    "Our model shows a reasonable fit with an R² score of 0.69, but the MAE and MSE suggest there is room for improvement. However, the baseline performance is not high either as there are not a lot of human methods to predict when an engine will fail with high accuracy."
   ]
  },
  {
   "cell_type": "code",
   "execution_count": 126,
   "metadata": {},
   "outputs": [
    {
     "name": "stdout",
     "output_type": "stream",
     "text": [
      "\u001b[1m1/1\u001b[0m \u001b[32m━━━━━━━━━━━━━━━━━━━━\u001b[0m\u001b[37m\u001b[0m \u001b[1m0s\u001b[0m 48ms/step\n",
      "Predicted Value:  148.29298\n",
      "Actual Value:  142.0\n",
      "6.2929840087890625\n"
     ]
    }
   ],
   "source": [
    "t=pd.DataFrame(np.array([[50,-0.0032,-0.0001,100.0,518.67,642.77,1588.49,1403.62,14.62,21.61,553.92,2388.06,9048.6,1.3,47.47,522.33,2388.09,8127.3,8.4116,0.03,392,2388,100.0,38.85,23.4106,142]]), columns=None)\n",
    "t, scaler_params = standardize(t, scaler_params)\n",
    "t_act = t.iloc[:,25]\n",
    "t=t.iloc[:,:25]\n",
    "t_pred=model.predict(t)\n",
    "print(\"Predicted Value: \", t_pred[0][0])\n",
    "print(\"Actual Value: \", t_act[0])\n",
    "mae = mean_absolute_error(t_act, t_pred)\n",
    "print(mae)"
   ]
  },
  {
   "cell_type": "markdown",
   "metadata": {},
   "source": [
    "As you can see, selecting a random cycle of a random engine, we are able to predict the remaining useful life of that engine with reasonable accuracy. For this engine on its 50th engine cycle, we predicted it has 148 useful cycles remaining (actually has 142). It's far from perfect; but given that there is not a very reliable method for humans to do it themselves, its actually quite helpful."
   ]
  },
  {
   "cell_type": "code",
   "execution_count": 127,
   "metadata": {},
   "outputs": [],
   "source": [
    "model.save(\"models/rul_model.keras\")"
   ]
  },
  {
   "cell_type": "code",
   "execution_count": null,
   "metadata": {},
   "outputs": [],
   "source": []
  }
 ],
 "metadata": {
  "kernelspec": {
   "display_name": "venv",
   "language": "python",
   "name": "python3"
  },
  "language_info": {
   "codemirror_mode": {
    "name": "ipython",
    "version": 3
   },
   "file_extension": ".py",
   "mimetype": "text/x-python",
   "name": "python",
   "nbconvert_exporter": "python",
   "pygments_lexer": "ipython3",
   "version": "3.12.2"
  }
 },
 "nbformat": 4,
 "nbformat_minor": 2
}
